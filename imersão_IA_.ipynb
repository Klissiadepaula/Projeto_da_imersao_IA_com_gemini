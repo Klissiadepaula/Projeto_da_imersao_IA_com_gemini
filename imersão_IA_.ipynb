{
  "nbformat": 4,
  "nbformat_minor": 0,
  "metadata": {
    "colab": {
      "provenance": [],
      "authorship_tag": "ABX9TyOHOzOTpVeLi70gm51mNLOV",
      "include_colab_link": true
    },
    "kernelspec": {
      "name": "python3",
      "display_name": "Python 3"
    },
    "language_info": {
      "name": "python"
    }
  },
  "cells": [
    {
      "cell_type": "markdown",
      "metadata": {
        "id": "view-in-github",
        "colab_type": "text"
      },
      "source": [
        "<a href=\"https://colab.research.google.com/github/Klissiadepaula/Projeto_da_imersao_IA_com_gemini/blob/main/imers%C3%A3o_IA_.ipynb\" target=\"_parent\"><img src=\"https://colab.research.google.com/assets/colab-badge.svg\" alt=\"Open In Colab\"/></a>"
      ]
    },
    {
      "cell_type": "markdown",
      "source": [
        "instalando o SDK do google"
      ],
      "metadata": {
        "id": "vTo9D1hMwsKA"
      }
    },
    {
      "cell_type": "code",
      "execution_count": 17,
      "metadata": {
        "colab": {
          "base_uri": "https://localhost:8080/"
        },
        "id": "5QOaQlsgv51k",
        "outputId": "c9cb0efb-bc99-4a6b-e40a-892e14742dad"
      },
      "outputs": [
        {
          "output_type": "stream",
          "name": "stdout",
          "text": [
            "\n",
            "Usage:   \n",
            "  pip3 install [options] <requirement specifier> [package-index-options] ...\n",
            "  pip3 install [options] -r <requirements file> [package-index-options] ...\n",
            "  pip3 install [options] [-e] <vcs project url> ...\n",
            "  pip3 install [options] [-e] <local project path> ...\n",
            "  pip3 install [options] <archive url/path> ...\n",
            "\n",
            "no such option: -u\n"
          ]
        }
      ],
      "source": [
        "! pip install -q -u google-generativeai"
      ]
    },
    {
      "cell_type": "markdown",
      "source": [
        "IMPORTANDO E DANDO UM APELIDO PARA O SDK QUE VOCÊ INSTALOU"
      ],
      "metadata": {
        "id": "WBkEV9Y-y1eM"
      }
    },
    {
      "cell_type": "code",
      "source": [
        "import google.generativeai as genai\n",
        "from google.colab import userdata\n",
        "api_key = userdata.get('SECRET_KEY')\n",
        "genai.configure(api_key=api_key)\n",
        "\n"
      ],
      "metadata": {
        "id": "94u8f8D6wyMf"
      },
      "execution_count": 32,
      "outputs": []
    },
    {
      "cell_type": "markdown",
      "source": [
        "LISTANDO OS MODELOS DISPONIVEIS"
      ],
      "metadata": {
        "id": "sjOrm6GAzFZe"
      }
    },
    {
      "cell_type": "code",
      "source": [
        "for m in genai.list_models():\n",
        "  if 'generateContent' in m.supported_generation_methods:\n",
        "    print(m.name)"
      ],
      "metadata": {
        "colab": {
          "base_uri": "https://localhost:8080/",
          "height": 139
        },
        "id": "h6CympU9zJll",
        "outputId": "d456b105-83bc-4ce3-976e-af74d88cb208"
      },
      "execution_count": 19,
      "outputs": [
        {
          "output_type": "stream",
          "name": "stdout",
          "text": [
            "models/gemini-1.0-pro\n",
            "models/gemini-1.0-pro-001\n",
            "models/gemini-1.0-pro-latest\n",
            "models/gemini-1.0-pro-vision-latest\n",
            "models/gemini-1.5-pro-latest\n",
            "models/gemini-pro\n",
            "models/gemini-pro-vision\n"
          ]
        }
      ]
    },
    {
      "cell_type": "markdown",
      "source": [
        "temperatura de aleatoriedade do gemini"
      ],
      "metadata": {
        "id": "p9oNZjhHGRLC"
      }
    },
    {
      "cell_type": "code",
      "source": [
        "generation_config ={\n",
        "    \"candidate_count\": 1,\n",
        "    \"temperature\": 0.5\n",
        "\n",
        "}"
      ],
      "metadata": {
        "id": "2xetN-C3FB5-"
      },
      "execution_count": 20,
      "outputs": []
    },
    {
      "cell_type": "markdown",
      "source": [
        "BLOQUEIOS DE SEGURANÇA"
      ],
      "metadata": {
        "id": "pcfsaFwXj_HT"
      }
    },
    {
      "cell_type": "code",
      "source": [
        "safety_settings={\n",
        "    \"HARASSMENT\": \"BLOCK_NONE\",\n",
        "    \"HATE\" : \"BLOCK_NONE\",\n",
        "    \"SEXUAL\" : \"BLOCK_NONE\",\n",
        "    \"DANGEROUS\" : \"BLOCK_NONE\",\n",
        "\n",
        "}"
      ],
      "metadata": {
        "id": "FpcAA7Dciljz"
      },
      "execution_count": 24,
      "outputs": []
    },
    {
      "cell_type": "markdown",
      "source": [
        "INICIALIZANDO O MODELO"
      ],
      "metadata": {
        "id": "z1JK0UgukI3Y"
      }
    },
    {
      "cell_type": "code",
      "source": [
        "model = genai.GenerativeModel(model_name=\"gemini-1.0-pro\",\n",
        "                              generation_config=generation_config,\n",
        "                              safety_settings=safety_settings )"
      ],
      "metadata": {
        "id": "mVfZVeH5kM0o"
      },
      "execution_count": 26,
      "outputs": []
    },
    {
      "cell_type": "markdown",
      "source": [
        "pergundando ao gemini e obetendo a resposta"
      ],
      "metadata": {
        "id": "kPKcMYQNvEZh"
      }
    },
    {
      "cell_type": "code",
      "source": [
        "response = model.generate_content(\" quais os 30 personagem principais do harry potter\")\n",
        "print(response.text)"
      ],
      "metadata": {
        "id": "RFnuTEVxtkD3"
      },
      "execution_count": null,
      "outputs": []
    },
    {
      "cell_type": "code",
      "source": [
        "chat = model.start_chat(history=[])"
      ],
      "metadata": {
        "id": "8UYHJ-dav3mK"
      },
      "execution_count": 29,
      "outputs": []
    },
    {
      "cell_type": "code",
      "source": [
        "prompt= input(\"Esperando um prompt:\")\n",
        "\n",
        "while prompt != \"fim\":\n",
        "  response = chat.send_message(prompt)\n",
        "  print(\"Responta: \",response.text, \"\\n\")\n",
        "  prompt= input(\"Esperando prompt: \")"
      ],
      "metadata": {
        "colab": {
          "base_uri": "https://localhost:8080/",
          "height": 295
        },
        "id": "O359njJcxJZ5",
        "outputId": "e9f3d7a7-0aaf-497b-9ab6-23355897e978"
      },
      "execution_count": 31,
      "outputs": [
        {
          "name": "stdout",
          "output_type": "stream",
          "text": [
            "Esperando um prompt:qual é a capitão do japão\n",
            "Responta:  Saori Takarada \n",
            "\n",
            "Esperando prompt: qual a capital do japão\n",
            "Responta:  Tóquio \n",
            "\n",
            "Esperando prompt: qual a comida tipica desse pais \n",
            "Responta:  Sushi \n",
            "\n",
            "Esperando prompt: meu primo nasceu nessa cidade oque ele é ?\n",
            "Responta:  Japonês \n",
            "\n",
            "Esperando prompt: qual a população dessa cidade\n",
            "Responta:  Tóquio (população estimada em 2023): 13.960.344 habitantes \n",
            "\n",
            "Esperando prompt: fim\n"
          ]
        }
      ]
    }
  ]
}